{
 "cells": [
  {
   "cell_type": "markdown",
   "metadata": {},
   "source": [
    "### This Notebook will be mainly used for the capstone project"
   ]
  },
  {
   "cell_type": "code",
   "execution_count": 1,
   "metadata": {},
   "outputs": [],
   "source": [
    "import numpy as np\n",
    "import pandas as pd\n",
    "from bs4 import BeautifulSoup\n",
    "import requests"
   ]
  },
  {
   "cell_type": "code",
   "execution_count": 2,
   "metadata": {},
   "outputs": [],
   "source": [
    "#!pip install beautifulsoup4"
   ]
  },
  {
   "cell_type": "code",
   "execution_count": 3,
   "metadata": {},
   "outputs": [
    {
     "name": "stdout",
     "output_type": "stream",
     "text": [
      "Hello Capstone Project Course!\n"
     ]
    }
   ],
   "source": [
    "print('Hello Capstone Project Course!')"
   ]
  },
  {
   "cell_type": "markdown",
   "metadata": {},
   "source": [
    "# **Week 3** \n",
    "## Peer-graded Assignment: Segmenting and Clustering Neighborhoods in Toronto  \n",
    "### **Section 1**"
   ]
  },
  {
   "cell_type": "markdown",
   "metadata": {},
   "source": [
    "- *Collect data from wikipedia article*"
   ]
  },
  {
   "cell_type": "code",
   "execution_count": 4,
   "metadata": {},
   "outputs": [],
   "source": [
    "html_file = requests.get('https://en.wikipedia.org/wiki/List_of_postal_codes_of_Canada:_M').text\n",
    "soup = BeautifulSoup(html_file, 'lxml')"
   ]
  },
  {
   "cell_type": "markdown",
   "metadata": {},
   "source": [
    "- *Search for tables in the html file, and grab the table at index 0, this time we only have one table,but this could be apply also if multiple table exist inside of the same page.*"
   ]
  },
  {
   "cell_type": "code",
   "execution_count": 5,
   "metadata": {},
   "outputs": [],
   "source": [
    "table = soup.find_all('table')[0]"
   ]
  },
  {
   "cell_type": "markdown",
   "metadata": {},
   "source": [
    "- *Read html file with pandas, convert it to a Dataframe and Rename the first column from Postcode to PostalCode*"
   ]
  },
  {
   "cell_type": "code",
   "execution_count": 6,
   "metadata": {},
   "outputs": [
    {
     "data": {
      "text/html": [
       "<div>\n",
       "<style scoped>\n",
       "    .dataframe tbody tr th:only-of-type {\n",
       "        vertical-align: middle;\n",
       "    }\n",
       "\n",
       "    .dataframe tbody tr th {\n",
       "        vertical-align: top;\n",
       "    }\n",
       "\n",
       "    .dataframe thead th {\n",
       "        text-align: right;\n",
       "    }\n",
       "</style>\n",
       "<table border=\"1\" class=\"dataframe\">\n",
       "  <thead>\n",
       "    <tr style=\"text-align: right;\">\n",
       "      <th></th>\n",
       "      <th>PostalCode</th>\n",
       "      <th>Borough</th>\n",
       "      <th>Neighborhood</th>\n",
       "    </tr>\n",
       "  </thead>\n",
       "  <tbody>\n",
       "    <tr>\n",
       "      <th>0</th>\n",
       "      <td>M1A</td>\n",
       "      <td>Not assigned</td>\n",
       "      <td>Not assigned</td>\n",
       "    </tr>\n",
       "    <tr>\n",
       "      <th>1</th>\n",
       "      <td>M2A</td>\n",
       "      <td>Not assigned</td>\n",
       "      <td>Not assigned</td>\n",
       "    </tr>\n",
       "    <tr>\n",
       "      <th>2</th>\n",
       "      <td>M3A</td>\n",
       "      <td>North York</td>\n",
       "      <td>Parkwoods</td>\n",
       "    </tr>\n",
       "    <tr>\n",
       "      <th>3</th>\n",
       "      <td>M4A</td>\n",
       "      <td>North York</td>\n",
       "      <td>Victoria Village</td>\n",
       "    </tr>\n",
       "    <tr>\n",
       "      <th>4</th>\n",
       "      <td>M5A</td>\n",
       "      <td>Downtown Toronto</td>\n",
       "      <td>Harbourfront</td>\n",
       "    </tr>\n",
       "  </tbody>\n",
       "</table>\n",
       "</div>"
      ],
      "text/plain": [
       "  PostalCode           Borough      Neighborhood\n",
       "0        M1A      Not assigned      Not assigned\n",
       "1        M2A      Not assigned      Not assigned\n",
       "2        M3A        North York         Parkwoods\n",
       "3        M4A        North York  Victoria Village\n",
       "4        M5A  Downtown Toronto      Harbourfront"
      ]
     },
     "execution_count": 6,
     "metadata": {},
     "output_type": "execute_result"
    }
   ],
   "source": [
    "table_list = pd.read_html(str(table))\n",
    "df = pd.DataFrame(table_list[0])\n",
    "df.rename(columns={'Postcode':'PostalCode', 'Neighbourhood':'Neighborhood'}, inplace=True)\n",
    "df.head()"
   ]
  },
  {
   "cell_type": "markdown",
   "metadata": {},
   "source": [
    "### Only process the cells that have an assigned borough. Ignore cells with a borough that is Not assigned."
   ]
  },
  {
   "cell_type": "markdown",
   "metadata": {},
   "source": [
    "- *Dataframe including Borough Not assigned*"
   ]
  },
  {
   "cell_type": "code",
   "execution_count": 7,
   "metadata": {},
   "outputs": [
    {
     "data": {
      "text/html": [
       "<div>\n",
       "<style scoped>\n",
       "    .dataframe tbody tr th:only-of-type {\n",
       "        vertical-align: middle;\n",
       "    }\n",
       "\n",
       "    .dataframe tbody tr th {\n",
       "        vertical-align: top;\n",
       "    }\n",
       "\n",
       "    .dataframe thead th {\n",
       "        text-align: right;\n",
       "    }\n",
       "</style>\n",
       "<table border=\"1\" class=\"dataframe\">\n",
       "  <thead>\n",
       "    <tr style=\"text-align: right;\">\n",
       "      <th></th>\n",
       "      <th>PostalCode</th>\n",
       "      <th>Borough</th>\n",
       "      <th>Neighborhood</th>\n",
       "    </tr>\n",
       "  </thead>\n",
       "  <tbody>\n",
       "    <tr>\n",
       "      <th>count</th>\n",
       "      <td>288</td>\n",
       "      <td>288</td>\n",
       "      <td>288</td>\n",
       "    </tr>\n",
       "    <tr>\n",
       "      <th>unique</th>\n",
       "      <td>180</td>\n",
       "      <td>12</td>\n",
       "      <td>209</td>\n",
       "    </tr>\n",
       "    <tr>\n",
       "      <th>top</th>\n",
       "      <td>M9V</td>\n",
       "      <td>Not assigned</td>\n",
       "      <td>Not assigned</td>\n",
       "    </tr>\n",
       "    <tr>\n",
       "      <th>freq</th>\n",
       "      <td>8</td>\n",
       "      <td>77</td>\n",
       "      <td>78</td>\n",
       "    </tr>\n",
       "  </tbody>\n",
       "</table>\n",
       "</div>"
      ],
      "text/plain": [
       "       PostalCode       Borough  Neighborhood\n",
       "count         288           288           288\n",
       "unique        180            12           209\n",
       "top           M9V  Not assigned  Not assigned\n",
       "freq            8            77            78"
      ]
     },
     "execution_count": 7,
     "metadata": {},
     "output_type": "execute_result"
    }
   ],
   "source": [
    "df.describe()"
   ]
  },
  {
   "cell_type": "markdown",
   "metadata": {},
   "source": [
    "- **Dataframe after using a boolean condition to remove the rows where Borough was Not assigned**"
   ]
  },
  {
   "cell_type": "code",
   "execution_count": 8,
   "metadata": {},
   "outputs": [
    {
     "data": {
      "text/html": [
       "<div>\n",
       "<style scoped>\n",
       "    .dataframe tbody tr th:only-of-type {\n",
       "        vertical-align: middle;\n",
       "    }\n",
       "\n",
       "    .dataframe tbody tr th {\n",
       "        vertical-align: top;\n",
       "    }\n",
       "\n",
       "    .dataframe thead th {\n",
       "        text-align: right;\n",
       "    }\n",
       "</style>\n",
       "<table border=\"1\" class=\"dataframe\">\n",
       "  <thead>\n",
       "    <tr style=\"text-align: right;\">\n",
       "      <th></th>\n",
       "      <th>PostalCode</th>\n",
       "      <th>Borough</th>\n",
       "      <th>Neighborhood</th>\n",
       "    </tr>\n",
       "  </thead>\n",
       "  <tbody>\n",
       "    <tr>\n",
       "      <th>count</th>\n",
       "      <td>211</td>\n",
       "      <td>211</td>\n",
       "      <td>211</td>\n",
       "    </tr>\n",
       "    <tr>\n",
       "      <th>unique</th>\n",
       "      <td>103</td>\n",
       "      <td>11</td>\n",
       "      <td>209</td>\n",
       "    </tr>\n",
       "    <tr>\n",
       "      <th>top</th>\n",
       "      <td>M8Y</td>\n",
       "      <td>Etobicoke</td>\n",
       "      <td>Runnymede</td>\n",
       "    </tr>\n",
       "    <tr>\n",
       "      <th>freq</th>\n",
       "      <td>8</td>\n",
       "      <td>45</td>\n",
       "      <td>2</td>\n",
       "    </tr>\n",
       "  </tbody>\n",
       "</table>\n",
       "</div>"
      ],
      "text/plain": [
       "       PostalCode    Borough Neighborhood\n",
       "count         211        211          211\n",
       "unique        103         11          209\n",
       "top           M8Y  Etobicoke    Runnymede\n",
       "freq            8         45            2"
      ]
     },
     "execution_count": 8,
     "metadata": {},
     "output_type": "execute_result"
    }
   ],
   "source": [
    "df_ba = df[df['Borough'] != 'Not assigned']\n",
    "df_ba.describe()"
   ]
  },
  {
   "cell_type": "markdown",
   "metadata": {},
   "source": [
    "### More than one neighborhood can exist in one postal code area. For example, in the table on the Wikipedia page, you will notice that M5A is listed twice and has two neighborhoods: Harbourfront and Regent Park. These two rows will be combined into one row with the neighborhoods separated with a comma as shown in row 11 in the above table."
   ]
  },
  {
   "cell_type": "markdown",
   "metadata": {},
   "source": [
    "- *I used the groupby function to group the data by 'PostalCode', 'Borough' and applied a string join function, concatenating with a ',' the values located in the 'Neighbourhood' column, to avoid the values being overwritten, also I converted to a Dataframe using Series.to_frame method, and reset the index to bring back the new dataframe with the same column structure.*"
   ]
  },
  {
   "cell_type": "code",
   "execution_count": 9,
   "metadata": {},
   "outputs": [],
   "source": [
    "df_ba_clean = df_ba.groupby(['PostalCode', 'Borough'])['Neighborhood'].apply(','.join).to_frame().reset_index()"
   ]
  },
  {
   "cell_type": "code",
   "execution_count": 10,
   "metadata": {},
   "outputs": [
    {
     "data": {
      "text/html": [
       "<div>\n",
       "<style scoped>\n",
       "    .dataframe tbody tr th:only-of-type {\n",
       "        vertical-align: middle;\n",
       "    }\n",
       "\n",
       "    .dataframe tbody tr th {\n",
       "        vertical-align: top;\n",
       "    }\n",
       "\n",
       "    .dataframe thead th {\n",
       "        text-align: right;\n",
       "    }\n",
       "</style>\n",
       "<table border=\"1\" class=\"dataframe\">\n",
       "  <thead>\n",
       "    <tr style=\"text-align: right;\">\n",
       "      <th></th>\n",
       "      <th>PostalCode</th>\n",
       "      <th>Borough</th>\n",
       "      <th>Neighborhood</th>\n",
       "    </tr>\n",
       "  </thead>\n",
       "  <tbody>\n",
       "    <tr>\n",
       "      <th>0</th>\n",
       "      <td>M1B</td>\n",
       "      <td>Scarborough</td>\n",
       "      <td>Rouge,Malvern</td>\n",
       "    </tr>\n",
       "    <tr>\n",
       "      <th>1</th>\n",
       "      <td>M1C</td>\n",
       "      <td>Scarborough</td>\n",
       "      <td>Highland Creek,Rouge Hill,Port Union</td>\n",
       "    </tr>\n",
       "    <tr>\n",
       "      <th>2</th>\n",
       "      <td>M1E</td>\n",
       "      <td>Scarborough</td>\n",
       "      <td>Guildwood,Morningside,West Hill</td>\n",
       "    </tr>\n",
       "    <tr>\n",
       "      <th>3</th>\n",
       "      <td>M1G</td>\n",
       "      <td>Scarborough</td>\n",
       "      <td>Woburn</td>\n",
       "    </tr>\n",
       "    <tr>\n",
       "      <th>4</th>\n",
       "      <td>M1H</td>\n",
       "      <td>Scarborough</td>\n",
       "      <td>Cedarbrae</td>\n",
       "    </tr>\n",
       "  </tbody>\n",
       "</table>\n",
       "</div>"
      ],
      "text/plain": [
       "  PostalCode      Borough                          Neighborhood\n",
       "0        M1B  Scarborough                         Rouge,Malvern\n",
       "1        M1C  Scarborough  Highland Creek,Rouge Hill,Port Union\n",
       "2        M1E  Scarborough       Guildwood,Morningside,West Hill\n",
       "3        M1G  Scarborough                                Woburn\n",
       "4        M1H  Scarborough                             Cedarbrae"
      ]
     },
     "execution_count": 10,
     "metadata": {},
     "output_type": "execute_result"
    }
   ],
   "source": [
    "df_ba_clean.head()"
   ]
  },
  {
   "cell_type": "markdown",
   "metadata": {},
   "source": [
    "### If a cell has a borough but a Not assigned neighborhood, then the neighborhood will be the same as the borough. So for the 9th cell in the table on the Wikipedia page, the value of the Borough and the Neighborhood columns will be Queen's Park."
   ]
  },
  {
   "cell_type": "markdown",
   "metadata": {},
   "source": [
    "- *Collected the list of index where 'Neighbourhood' value was 'Not assigned', and then use the Index locations to replace the values of the 'Neighbourhood' column by the values of the 'Borough' by using DataFrame Slicing (This time just one value was returned by the condition).*"
   ]
  },
  {
   "cell_type": "code",
   "execution_count": 11,
   "metadata": {},
   "outputs": [],
   "source": [
    "index_loc = df_ba_clean[df_ba_clean['Neighborhood'] == 'Not assigned']['Neighborhood'].index"
   ]
  },
  {
   "cell_type": "code",
   "execution_count": 12,
   "metadata": {},
   "outputs": [],
   "source": [
    "df_ba_clean.loc[index_loc, 2:] = df_ba_clean.loc[index_loc]['Borough'].values[0]"
   ]
  },
  {
   "cell_type": "code",
   "execution_count": 13,
   "metadata": {},
   "outputs": [
    {
     "data": {
      "text/html": [
       "<div>\n",
       "<style scoped>\n",
       "    .dataframe tbody tr th:only-of-type {\n",
       "        vertical-align: middle;\n",
       "    }\n",
       "\n",
       "    .dataframe tbody tr th {\n",
       "        vertical-align: top;\n",
       "    }\n",
       "\n",
       "    .dataframe thead th {\n",
       "        text-align: right;\n",
       "    }\n",
       "</style>\n",
       "<table border=\"1\" class=\"dataframe\">\n",
       "  <thead>\n",
       "    <tr style=\"text-align: right;\">\n",
       "      <th></th>\n",
       "      <th>PostalCode</th>\n",
       "      <th>Borough</th>\n",
       "      <th>Neighborhood</th>\n",
       "    </tr>\n",
       "  </thead>\n",
       "  <tbody>\n",
       "    <tr>\n",
       "      <th>85</th>\n",
       "      <td>M7A</td>\n",
       "      <td>Queen's Park</td>\n",
       "      <td>Queen's Park</td>\n",
       "    </tr>\n",
       "  </tbody>\n",
       "</table>\n",
       "</div>"
      ],
      "text/plain": [
       "   PostalCode       Borough  Neighborhood\n",
       "85        M7A  Queen's Park  Queen's Park"
      ]
     },
     "execution_count": 13,
     "metadata": {},
     "output_type": "execute_result"
    }
   ],
   "source": [
    "df_ba_clean.loc[index_loc]"
   ]
  },
  {
   "cell_type": "markdown",
   "metadata": {},
   "source": [
    "### In the last cell of your notebook, use the .shape method to print the number of rows of your dataframe."
   ]
  },
  {
   "cell_type": "code",
   "execution_count": 14,
   "metadata": {},
   "outputs": [
    {
     "data": {
      "text/plain": [
       "(103, 3)"
      ]
     },
     "execution_count": 14,
     "metadata": {},
     "output_type": "execute_result"
    }
   ],
   "source": [
    "df_ba_clean.shape"
   ]
  },
  {
   "cell_type": "markdown",
   "metadata": {},
   "source": [
    "<hr></hr>"
   ]
  },
  {
   "cell_type": "markdown",
   "metadata": {},
   "source": [
    "### **Section 2**"
   ]
  },
  {
   "cell_type": "markdown",
   "metadata": {},
   "source": [
    "- *I Read Geospatial data from csv file, then rename the Postal Code column to PostalCode, to match the Column name of the Neighbourhood DataFrame, then I grouped by the data by PostalCode to get the unique values and get a dimension match between the two dataframes, and then I merge the two data frames doing a join on the PostalCode column.*"
   ]
  },
  {
   "cell_type": "code",
   "execution_count": 15,
   "metadata": {},
   "outputs": [],
   "source": [
    "geo_data = pd.read_csv('Geospatial_Coordinates.csv')\n",
    "geo_data.rename(columns={'Postal Code':'PostalCode'}, inplace=True)"
   ]
  },
  {
   "cell_type": "code",
   "execution_count": 16,
   "metadata": {},
   "outputs": [],
   "source": [
    "geo_data = geo_data.groupby('PostalCode').head()"
   ]
  },
  {
   "cell_type": "code",
   "execution_count": 17,
   "metadata": {},
   "outputs": [
    {
     "data": {
      "text/html": [
       "<div>\n",
       "<style scoped>\n",
       "    .dataframe tbody tr th:only-of-type {\n",
       "        vertical-align: middle;\n",
       "    }\n",
       "\n",
       "    .dataframe tbody tr th {\n",
       "        vertical-align: top;\n",
       "    }\n",
       "\n",
       "    .dataframe thead th {\n",
       "        text-align: right;\n",
       "    }\n",
       "</style>\n",
       "<table border=\"1\" class=\"dataframe\">\n",
       "  <thead>\n",
       "    <tr style=\"text-align: right;\">\n",
       "      <th></th>\n",
       "      <th>PostalCode</th>\n",
       "      <th>Latitude</th>\n",
       "      <th>Longitude</th>\n",
       "    </tr>\n",
       "  </thead>\n",
       "  <tbody>\n",
       "    <tr>\n",
       "      <th>0</th>\n",
       "      <td>M1B</td>\n",
       "      <td>43.806686</td>\n",
       "      <td>-79.194353</td>\n",
       "    </tr>\n",
       "    <tr>\n",
       "      <th>1</th>\n",
       "      <td>M1C</td>\n",
       "      <td>43.784535</td>\n",
       "      <td>-79.160497</td>\n",
       "    </tr>\n",
       "    <tr>\n",
       "      <th>2</th>\n",
       "      <td>M1E</td>\n",
       "      <td>43.763573</td>\n",
       "      <td>-79.188711</td>\n",
       "    </tr>\n",
       "    <tr>\n",
       "      <th>3</th>\n",
       "      <td>M1G</td>\n",
       "      <td>43.770992</td>\n",
       "      <td>-79.216917</td>\n",
       "    </tr>\n",
       "    <tr>\n",
       "      <th>4</th>\n",
       "      <td>M1H</td>\n",
       "      <td>43.773136</td>\n",
       "      <td>-79.239476</td>\n",
       "    </tr>\n",
       "  </tbody>\n",
       "</table>\n",
       "</div>"
      ],
      "text/plain": [
       "  PostalCode   Latitude  Longitude\n",
       "0        M1B  43.806686 -79.194353\n",
       "1        M1C  43.784535 -79.160497\n",
       "2        M1E  43.763573 -79.188711\n",
       "3        M1G  43.770992 -79.216917\n",
       "4        M1H  43.773136 -79.239476"
      ]
     },
     "execution_count": 17,
     "metadata": {},
     "output_type": "execute_result"
    }
   ],
   "source": [
    "geo_data.head()"
   ]
  },
  {
   "cell_type": "code",
   "execution_count": 18,
   "metadata": {},
   "outputs": [],
   "source": [
    "df_final = pd.merge(df_ba_clean, geo_data, on='PostalCode')"
   ]
  },
  {
   "cell_type": "code",
   "execution_count": 19,
   "metadata": {},
   "outputs": [
    {
     "data": {
      "text/html": [
       "<div>\n",
       "<style scoped>\n",
       "    .dataframe tbody tr th:only-of-type {\n",
       "        vertical-align: middle;\n",
       "    }\n",
       "\n",
       "    .dataframe tbody tr th {\n",
       "        vertical-align: top;\n",
       "    }\n",
       "\n",
       "    .dataframe thead th {\n",
       "        text-align: right;\n",
       "    }\n",
       "</style>\n",
       "<table border=\"1\" class=\"dataframe\">\n",
       "  <thead>\n",
       "    <tr style=\"text-align: right;\">\n",
       "      <th></th>\n",
       "      <th>PostalCode</th>\n",
       "      <th>Borough</th>\n",
       "      <th>Neighborhood</th>\n",
       "      <th>Latitude</th>\n",
       "      <th>Longitude</th>\n",
       "    </tr>\n",
       "  </thead>\n",
       "  <tbody>\n",
       "    <tr>\n",
       "      <th>0</th>\n",
       "      <td>M1B</td>\n",
       "      <td>Scarborough</td>\n",
       "      <td>Rouge,Malvern</td>\n",
       "      <td>43.806686</td>\n",
       "      <td>-79.194353</td>\n",
       "    </tr>\n",
       "    <tr>\n",
       "      <th>1</th>\n",
       "      <td>M1C</td>\n",
       "      <td>Scarborough</td>\n",
       "      <td>Highland Creek,Rouge Hill,Port Union</td>\n",
       "      <td>43.784535</td>\n",
       "      <td>-79.160497</td>\n",
       "    </tr>\n",
       "    <tr>\n",
       "      <th>2</th>\n",
       "      <td>M1E</td>\n",
       "      <td>Scarborough</td>\n",
       "      <td>Guildwood,Morningside,West Hill</td>\n",
       "      <td>43.763573</td>\n",
       "      <td>-79.188711</td>\n",
       "    </tr>\n",
       "    <tr>\n",
       "      <th>3</th>\n",
       "      <td>M1G</td>\n",
       "      <td>Scarborough</td>\n",
       "      <td>Woburn</td>\n",
       "      <td>43.770992</td>\n",
       "      <td>-79.216917</td>\n",
       "    </tr>\n",
       "    <tr>\n",
       "      <th>4</th>\n",
       "      <td>M1H</td>\n",
       "      <td>Scarborough</td>\n",
       "      <td>Cedarbrae</td>\n",
       "      <td>43.773136</td>\n",
       "      <td>-79.239476</td>\n",
       "    </tr>\n",
       "  </tbody>\n",
       "</table>\n",
       "</div>"
      ],
      "text/plain": [
       "  PostalCode      Borough                          Neighborhood   Latitude  \\\n",
       "0        M1B  Scarborough                         Rouge,Malvern  43.806686   \n",
       "1        M1C  Scarborough  Highland Creek,Rouge Hill,Port Union  43.784535   \n",
       "2        M1E  Scarborough       Guildwood,Morningside,West Hill  43.763573   \n",
       "3        M1G  Scarborough                                Woburn  43.770992   \n",
       "4        M1H  Scarborough                             Cedarbrae  43.773136   \n",
       "\n",
       "   Longitude  \n",
       "0 -79.194353  \n",
       "1 -79.160497  \n",
       "2 -79.188711  \n",
       "3 -79.216917  \n",
       "4 -79.239476  "
      ]
     },
     "execution_count": 19,
     "metadata": {},
     "output_type": "execute_result"
    }
   ],
   "source": [
    "df_final.head()"
   ]
  },
  {
   "cell_type": "markdown",
   "metadata": {},
   "source": [
    "<hr></hr>"
   ]
  },
  {
   "cell_type": "markdown",
   "metadata": {},
   "source": [
    "### **Section3**"
   ]
  },
  {
   "cell_type": "markdown",
   "metadata": {},
   "source": [
    "- *I use KMeans to run a Cluster between the Longitude, the number of cluster used was 6, after that I created a scatter plot of the results of the clustering, and I noticed that our clusters are subdivided in a pattern section which seems to match what a group of neighborhoods would look like, each cluster is next to each other and then there is another cluster following, same structure we could see in the cities.*"
   ]
  },
  {
   "cell_type": "code",
   "execution_count": 20,
   "metadata": {},
   "outputs": [],
   "source": [
    "from sklearn import metrics\n",
    "from sklearn.cluster import KMeans\n",
    "import matplotlib.pyplot as plt"
   ]
  },
  {
   "cell_type": "code",
   "execution_count": 21,
   "metadata": {},
   "outputs": [],
   "source": [
    "X = df_final[['Latitude', 'Longitude']]"
   ]
  },
  {
   "cell_type": "code",
   "execution_count": 22,
   "metadata": {},
   "outputs": [],
   "source": [
    "kmeans_model = KMeans(n_clusters=6, random_state=20, max_iter=25).fit(X)\n",
    "labels = kmeans_model.labels_\n",
    "centers = kmeans_model.cluster_centers_"
   ]
  },
  {
   "cell_type": "code",
   "execution_count": 23,
   "metadata": {},
   "outputs": [
    {
     "data": {
      "text/plain": [
       "0.37051934358891375"
      ]
     },
     "execution_count": 23,
     "metadata": {},
     "output_type": "execute_result"
    }
   ],
   "source": [
    "metrics.silhouette_score(X, kmeans_model.labels_, metric='euclidean')"
   ]
  },
  {
   "cell_type": "code",
   "execution_count": 24,
   "metadata": {},
   "outputs": [
    {
     "data": {
      "text/plain": [
       "<matplotlib.collections.PathCollection at 0x7f7da1a39898>"
      ]
     },
     "execution_count": 24,
     "metadata": {},
     "output_type": "execute_result"
    },
    {
     "data": {
      "image/png": "[encoded data removed]",
      "text/plain": [
       "<Figure size 720x432 with 1 Axes>"
      ]
     },
     "metadata": {
      "needs_background": "light"
     },
     "output_type": "display_data"
    }
   ],
   "source": [
    "fig = plt.figure(figsize=(10, 6))\n",
    "ax = fig.add_subplot(1, 1, 1)\n",
    "ax.scatter(df_final['Latitude'], df_final['Longitude'], s=80, c=labels, cmap='viridis')"
   ]
  },
  {
   "cell_type": "code",
   "execution_count": 25,
   "metadata": {},
   "outputs": [],
   "source": [
    "df_final['Cluster'] = labels"
   ]
  },
  {
   "cell_type": "code",
   "execution_count": 26,
   "metadata": {},
   "outputs": [
    {
     "data": {
      "text/html": [
       "<div>\n",
       "<style scoped>\n",
       "    .dataframe tbody tr th:only-of-type {\n",
       "        vertical-align: middle;\n",
       "    }\n",
       "\n",
       "    .dataframe tbody tr th {\n",
       "        vertical-align: top;\n",
       "    }\n",
       "\n",
       "    .dataframe thead th {\n",
       "        text-align: right;\n",
       "    }\n",
       "</style>\n",
       "<table border=\"1\" class=\"dataframe\">\n",
       "  <thead>\n",
       "    <tr style=\"text-align: right;\">\n",
       "      <th></th>\n",
       "      <th>PostalCode</th>\n",
       "      <th>Borough</th>\n",
       "      <th>Neighborhood</th>\n",
       "      <th>Latitude</th>\n",
       "      <th>Longitude</th>\n",
       "      <th>Cluster</th>\n",
       "    </tr>\n",
       "  </thead>\n",
       "  <tbody>\n",
       "    <tr>\n",
       "      <th>0</th>\n",
       "      <td>M1B</td>\n",
       "      <td>Scarborough</td>\n",
       "      <td>Rouge,Malvern</td>\n",
       "      <td>43.806686</td>\n",
       "      <td>-79.194353</td>\n",
       "      <td>1</td>\n",
       "    </tr>\n",
       "    <tr>\n",
       "      <th>1</th>\n",
       "      <td>M1C</td>\n",
       "      <td>Scarborough</td>\n",
       "      <td>Highland Creek,Rouge Hill,Port Union</td>\n",
       "      <td>43.784535</td>\n",
       "      <td>-79.160497</td>\n",
       "      <td>1</td>\n",
       "    </tr>\n",
       "    <tr>\n",
       "      <th>2</th>\n",
       "      <td>M1E</td>\n",
       "      <td>Scarborough</td>\n",
       "      <td>Guildwood,Morningside,West Hill</td>\n",
       "      <td>43.763573</td>\n",
       "      <td>-79.188711</td>\n",
       "      <td>1</td>\n",
       "    </tr>\n",
       "    <tr>\n",
       "      <th>3</th>\n",
       "      <td>M1G</td>\n",
       "      <td>Scarborough</td>\n",
       "      <td>Woburn</td>\n",
       "      <td>43.770992</td>\n",
       "      <td>-79.216917</td>\n",
       "      <td>1</td>\n",
       "    </tr>\n",
       "    <tr>\n",
       "      <th>4</th>\n",
       "      <td>M1H</td>\n",
       "      <td>Scarborough</td>\n",
       "      <td>Cedarbrae</td>\n",
       "      <td>43.773136</td>\n",
       "      <td>-79.239476</td>\n",
       "      <td>1</td>\n",
       "    </tr>\n",
       "    <tr>\n",
       "      <th>5</th>\n",
       "      <td>M1J</td>\n",
       "      <td>Scarborough</td>\n",
       "      <td>Scarborough Village</td>\n",
       "      <td>43.744734</td>\n",
       "      <td>-79.239476</td>\n",
       "      <td>1</td>\n",
       "    </tr>\n",
       "    <tr>\n",
       "      <th>6</th>\n",
       "      <td>M1K</td>\n",
       "      <td>Scarborough</td>\n",
       "      <td>East Birchmount Park,Ionview,Kennedy Park</td>\n",
       "      <td>43.727929</td>\n",
       "      <td>-79.262029</td>\n",
       "      <td>1</td>\n",
       "    </tr>\n",
       "    <tr>\n",
       "      <th>7</th>\n",
       "      <td>M1L</td>\n",
       "      <td>Scarborough</td>\n",
       "      <td>Clairlea,Golden Mile,Oakridge</td>\n",
       "      <td>43.711112</td>\n",
       "      <td>-79.284577</td>\n",
       "      <td>4</td>\n",
       "    </tr>\n",
       "    <tr>\n",
       "      <th>8</th>\n",
       "      <td>M1M</td>\n",
       "      <td>Scarborough</td>\n",
       "      <td>Cliffcrest,Cliffside,Scarborough Village West</td>\n",
       "      <td>43.716316</td>\n",
       "      <td>-79.239476</td>\n",
       "      <td>1</td>\n",
       "    </tr>\n",
       "    <tr>\n",
       "      <th>9</th>\n",
       "      <td>M1N</td>\n",
       "      <td>Scarborough</td>\n",
       "      <td>Birch Cliff,Cliffside West</td>\n",
       "      <td>43.692657</td>\n",
       "      <td>-79.264848</td>\n",
       "      <td>4</td>\n",
       "    </tr>\n",
       "    <tr>\n",
       "      <th>10</th>\n",
       "      <td>M1P</td>\n",
       "      <td>Scarborough</td>\n",
       "      <td>Dorset Park,Scarborough Town Centre,Wexford He...</td>\n",
       "      <td>43.757410</td>\n",
       "      <td>-79.273304</td>\n",
       "      <td>1</td>\n",
       "    </tr>\n",
       "    <tr>\n",
       "      <th>11</th>\n",
       "      <td>M1R</td>\n",
       "      <td>Scarborough</td>\n",
       "      <td>Maryvale,Wexford</td>\n",
       "      <td>43.750072</td>\n",
       "      <td>-79.295849</td>\n",
       "      <td>4</td>\n",
       "    </tr>\n",
       "    <tr>\n",
       "      <th>12</th>\n",
       "      <td>M1S</td>\n",
       "      <td>Scarborough</td>\n",
       "      <td>Agincourt</td>\n",
       "      <td>43.794200</td>\n",
       "      <td>-79.262029</td>\n",
       "      <td>1</td>\n",
       "    </tr>\n",
       "    <tr>\n",
       "      <th>13</th>\n",
       "      <td>M1T</td>\n",
       "      <td>Scarborough</td>\n",
       "      <td>Clarks Corners,Sullivan,Tam O'Shanter</td>\n",
       "      <td>43.781638</td>\n",
       "      <td>-79.304302</td>\n",
       "      <td>4</td>\n",
       "    </tr>\n",
       "    <tr>\n",
       "      <th>14</th>\n",
       "      <td>M1V</td>\n",
       "      <td>Scarborough</td>\n",
       "      <td>Agincourt North,L'Amoreaux East,Milliken,Steel...</td>\n",
       "      <td>43.815252</td>\n",
       "      <td>-79.284577</td>\n",
       "      <td>1</td>\n",
       "    </tr>\n",
       "    <tr>\n",
       "      <th>15</th>\n",
       "      <td>M1W</td>\n",
       "      <td>Scarborough</td>\n",
       "      <td>L'Amoreaux West</td>\n",
       "      <td>43.799525</td>\n",
       "      <td>-79.318389</td>\n",
       "      <td>4</td>\n",
       "    </tr>\n",
       "    <tr>\n",
       "      <th>16</th>\n",
       "      <td>M1X</td>\n",
       "      <td>Scarborough</td>\n",
       "      <td>Upper Rouge</td>\n",
       "      <td>43.836125</td>\n",
       "      <td>-79.205636</td>\n",
       "      <td>1</td>\n",
       "    </tr>\n",
       "    <tr>\n",
       "      <th>17</th>\n",
       "      <td>M2H</td>\n",
       "      <td>North York</td>\n",
       "      <td>Hillcrest Village</td>\n",
       "      <td>43.803762</td>\n",
       "      <td>-79.363452</td>\n",
       "      <td>5</td>\n",
       "    </tr>\n",
       "    <tr>\n",
       "      <th>18</th>\n",
       "      <td>M2J</td>\n",
       "      <td>North York</td>\n",
       "      <td>Fairview,Henry Farm,Oriole</td>\n",
       "      <td>43.778517</td>\n",
       "      <td>-79.346556</td>\n",
       "      <td>5</td>\n",
       "    </tr>\n",
       "    <tr>\n",
       "      <th>19</th>\n",
       "      <td>M2K</td>\n",
       "      <td>North York</td>\n",
       "      <td>Bayview Village</td>\n",
       "      <td>43.786947</td>\n",
       "      <td>-79.385975</td>\n",
       "      <td>5</td>\n",
       "    </tr>\n",
       "  </tbody>\n",
       "</table>\n",
       "</div>"
      ],
      "text/plain": [
       "   PostalCode      Borough                                       Neighborhood  \\\n",
       "0         M1B  Scarborough                                      Rouge,Malvern   \n",
       "1         M1C  Scarborough               Highland Creek,Rouge Hill,Port Union   \n",
       "2         M1E  Scarborough                    Guildwood,Morningside,West Hill   \n",
       "3         M1G  Scarborough                                             Woburn   \n",
       "4         M1H  Scarborough                                          Cedarbrae   \n",
       "5         M1J  Scarborough                                Scarborough Village   \n",
       "6         M1K  Scarborough          East Birchmount Park,Ionview,Kennedy Park   \n",
       "7         M1L  Scarborough                      Clairlea,Golden Mile,Oakridge   \n",
       "8         M1M  Scarborough      Cliffcrest,Cliffside,Scarborough Village West   \n",
       "9         M1N  Scarborough                         Birch Cliff,Cliffside West   \n",
       "10        M1P  Scarborough  Dorset Park,Scarborough Town Centre,Wexford He...   \n",
       "11        M1R  Scarborough                                   Maryvale,Wexford   \n",
       "12        M1S  Scarborough                                          Agincourt   \n",
       "13        M1T  Scarborough              Clarks Corners,Sullivan,Tam O'Shanter   \n",
       "14        M1V  Scarborough  Agincourt North,L'Amoreaux East,Milliken,Steel...   \n",
       "15        M1W  Scarborough                                    L'Amoreaux West   \n",
       "16        M1X  Scarborough                                        Upper Rouge   \n",
       "17        M2H   North York                                  Hillcrest Village   \n",
       "18        M2J   North York                         Fairview,Henry Farm,Oriole   \n",
       "19        M2K   North York                                    Bayview Village   \n",
       "\n",
       "     Latitude  Longitude  Cluster  \n",
       "0   43.806686 -79.194353        1  \n",
       "1   43.784535 -79.160497        1  \n",
       "2   43.763573 -79.188711        1  \n",
       "3   43.770992 -79.216917        1  \n",
       "4   43.773136 -79.239476        1  \n",
       "5   43.744734 -79.239476        1  \n",
       "6   43.727929 -79.262029        1  \n",
       "7   43.711112 -79.284577        4  \n",
       "8   43.716316 -79.239476        1  \n",
       "9   43.692657 -79.264848        4  \n",
       "10  43.757410 -79.273304        1  \n",
       "11  43.750072 -79.295849        4  \n",
       "12  43.794200 -79.262029        1  \n",
       "13  43.781638 -79.304302        4  \n",
       "14  43.815252 -79.284577        1  \n",
       "15  43.799525 -79.318389        4  \n",
       "16  43.836125 -79.205636        1  \n",
       "17  43.803762 -79.363452        5  \n",
       "18  43.778517 -79.346556        5  \n",
       "19  43.786947 -79.385975        5  "
      ]
     },
     "execution_count": 26,
     "metadata": {},
     "output_type": "execute_result"
    }
   ],
   "source": [
    "df_final.head(20)"
   ]
  },
  {
   "cell_type": "markdown",
   "metadata": {},
   "source": [
    "### **Ploting the Neighborhoods clusters in folium**"
   ]
  },
  {
   "cell_type": "markdown",
   "metadata": {},
   "source": [
    "- *To plot the Clusters in Folium I used the pluging provided by folum 'MarkerCluster'*"
   ]
  },
  {
   "cell_type": "code",
   "execution_count": 27,
   "metadata": {},
   "outputs": [],
   "source": [
    "import folium\n",
    "from folium.plugins import MarkerCluster"
   ]
  },
  {
   "cell_type": "code",
   "execution_count": 28,
   "metadata": {},
   "outputs": [
    {
     "data": {
      "text/html": [
       "<div style=\"width:100%;\"><div style=\"position:relative;width:100%;height:0;padding-bottom:60%;\"><iframe src=\"data:text/html;charset=utf-8;base64,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\" style=\"position:absolute;width:100%;height:100%;left:0;top:0;border:none !important;\" allowfullscreen webkitallowfullscreen mozallowfullscreen></iframe></div></div>"
      ],
      "text/plain": [
       "<folium.folium.Map at 0x7f7da15aa080>"
      ]
     },
     "execution_count": 28,
     "metadata": {},
     "output_type": "execute_result"
    }
   ],
   "source": [
    "toronto_map = folium.Map(location=(43.653, -79.383), zoom_start=10)\n",
    "\n",
    "mc = MarkerCluster()\n",
    "\n",
    "#creating a Marker for each point in df_sample. Each point will get a popup with their Borough\n",
    "for row in df_final.itertuples():\n",
    "    mc.add_child(folium.Marker(location=[row.Latitude,  row.Longitude],\n",
    "                 popup=row.Borough))\n",
    "\n",
    "toronto_map.add_child(mc)\n",
    "\n",
    "\n",
    "toronto_map"
   ]
  }
 ],
 "metadata": {
  "kernelspec": {
   "display_name": "Python 3",
   "language": "python",
   "name": "python3"
  },
  "language_info": {
   "codemirror_mode": {
    "name": "ipython",
    "version": 3
   },
   "file_extension": ".py",
   "mimetype": "text/x-python",
   "name": "python",
   "nbconvert_exporter": "python",
   "pygments_lexer": "ipython3",
   "version": "3.7.3"
  }
 },
 "nbformat": 4,
 "nbformat_minor": 4
}
