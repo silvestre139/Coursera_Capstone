{
 "cells": [
  {
   "cell_type": "markdown",
   "metadata": {},
   "source": [
    "### This Notebook will be mainly used for the capstone project"
   ]
  },
  {
   "cell_type": "code",
   "execution_count": 1,
   "metadata": {},
   "outputs": [],
   "source": [
    "import numpy as np\n",
    "import pandas as pd\n",
    "from bs4 import BeautifulSoup\n",
    "import requests"
   ]
  },
  {
   "cell_type": "code",
   "execution_count": 2,
   "metadata": {},
   "outputs": [],
   "source": [
    "#!pip install beautifulsoup4"
   ]
  },
  {
   "cell_type": "code",
   "execution_count": 3,
   "metadata": {},
   "outputs": [
    {
     "name": "stdout",
     "output_type": "stream",
     "text": [
      "Hello Capstone Project Course!\n"
     ]
    }
   ],
   "source": [
    "print('Hello Capstone Project Course!')"
   ]
  },
  {
   "cell_type": "markdown",
   "metadata": {},
   "source": [
    "# **Week 3** \n",
    "## Peer-graded Assignment: Segmenting and Clustering Neighborhoods in Toronto  \n",
    "### **Section 1**"
   ]
  },
  {
   "cell_type": "markdown",
   "metadata": {},
   "source": [
    "- *Collect data from wikipedia article*"
   ]
  },
  {
   "cell_type": "code",
   "execution_count": 4,
   "metadata": {},
   "outputs": [],
   "source": [
    "html_file = requests.get('https://en.wikipedia.org/wiki/List_of_postal_codes_of_Canada:_M').text\n",
    "soup = BeautifulSoup(html_file, 'lxml')"
   ]
  },
  {
   "cell_type": "markdown",
   "metadata": {},
   "source": [
    "- *Search for tables in the html file, and grab the table at index 0, this time we only have one table,but this could be apply also if multiple table exist inside of the same page.*"
   ]
  },
  {
   "cell_type": "code",
   "execution_count": 5,
   "metadata": {},
   "outputs": [],
   "source": [
    "table = soup.find_all('table')[0]"
   ]
  },
  {
   "cell_type": "markdown",
   "metadata": {},
   "source": [
    "- *Read html file with pandas, convert it to a Dataframe and Rename the first column from Postcode to PostalCode*"
   ]
  },
  {
   "cell_type": "code",
   "execution_count": 6,
   "metadata": {},
   "outputs": [
    {
     "data": {
      "text/html": [
       "<div>\n",
       "<style scoped>\n",
       "    .dataframe tbody tr th:only-of-type {\n",
       "        vertical-align: middle;\n",
       "    }\n",
       "\n",
       "    .dataframe tbody tr th {\n",
       "        vertical-align: top;\n",
       "    }\n",
       "\n",
       "    .dataframe thead th {\n",
       "        text-align: right;\n",
       "    }\n",
       "</style>\n",
       "<table border=\"1\" class=\"dataframe\">\n",
       "  <thead>\n",
       "    <tr style=\"text-align: right;\">\n",
       "      <th></th>\n",
       "      <th>PostalCode</th>\n",
       "      <th>Borough</th>\n",
       "      <th>Neighborhood</th>\n",
       "    </tr>\n",
       "  </thead>\n",
       "  <tbody>\n",
       "    <tr>\n",
       "      <th>0</th>\n",
       "      <td>M1A</td>\n",
       "      <td>Not assigned</td>\n",
       "      <td>Not assigned</td>\n",
       "    </tr>\n",
       "    <tr>\n",
       "      <th>1</th>\n",
       "      <td>M2A</td>\n",
       "      <td>Not assigned</td>\n",
       "      <td>Not assigned</td>\n",
       "    </tr>\n",
       "    <tr>\n",
       "      <th>2</th>\n",
       "      <td>M3A</td>\n",
       "      <td>North York</td>\n",
       "      <td>Parkwoods</td>\n",
       "    </tr>\n",
       "    <tr>\n",
       "      <th>3</th>\n",
       "      <td>M4A</td>\n",
       "      <td>North York</td>\n",
       "      <td>Victoria Village</td>\n",
       "    </tr>\n",
       "    <tr>\n",
       "      <th>4</th>\n",
       "      <td>M5A</td>\n",
       "      <td>Downtown Toronto</td>\n",
       "      <td>Harbourfront</td>\n",
       "    </tr>\n",
       "  </tbody>\n",
       "</table>\n",
       "</div>"
      ],
      "text/plain": [
       "  PostalCode           Borough      Neighborhood\n",
       "0        M1A      Not assigned      Not assigned\n",
       "1        M2A      Not assigned      Not assigned\n",
       "2        M3A        North York         Parkwoods\n",
       "3        M4A        North York  Victoria Village\n",
       "4        M5A  Downtown Toronto      Harbourfront"
      ]
     },
     "execution_count": 6,
     "metadata": {},
     "output_type": "execute_result"
    }
   ],
   "source": [
    "table_list = pd.read_html(str(table))\n",
    "df = pd.DataFrame(table_list[0])\n",
    "df.rename(columns={'Postcode':'PostalCode', 'Neighbourhood':'Neighborhood'}, inplace=True)\n",
    "df.head()"
   ]
  },
  {
   "cell_type": "markdown",
   "metadata": {},
   "source": [
    "### Only process the cells that have an assigned borough. Ignore cells with a borough that is Not assigned."
   ]
  },
  {
   "cell_type": "markdown",
   "metadata": {},
   "source": [
    "- *Dataframe including Borough Not assigned*"
   ]
  },
  {
   "cell_type": "code",
   "execution_count": 7,
   "metadata": {},
   "outputs": [
    {
     "data": {
      "text/html": [
       "<div>\n",
       "<style scoped>\n",
       "    .dataframe tbody tr th:only-of-type {\n",
       "        vertical-align: middle;\n",
       "    }\n",
       "\n",
       "    .dataframe tbody tr th {\n",
       "        vertical-align: top;\n",
       "    }\n",
       "\n",
       "    .dataframe thead th {\n",
       "        text-align: right;\n",
       "    }\n",
       "</style>\n",
       "<table border=\"1\" class=\"dataframe\">\n",
       "  <thead>\n",
       "    <tr style=\"text-align: right;\">\n",
       "      <th></th>\n",
       "      <th>PostalCode</th>\n",
       "      <th>Borough</th>\n",
       "      <th>Neighborhood</th>\n",
       "    </tr>\n",
       "  </thead>\n",
       "  <tbody>\n",
       "    <tr>\n",
       "      <th>count</th>\n",
       "      <td>288</td>\n",
       "      <td>288</td>\n",
       "      <td>288</td>\n",
       "    </tr>\n",
       "    <tr>\n",
       "      <th>unique</th>\n",
       "      <td>180</td>\n",
       "      <td>12</td>\n",
       "      <td>209</td>\n",
       "    </tr>\n",
       "    <tr>\n",
       "      <th>top</th>\n",
       "      <td>M8Y</td>\n",
       "      <td>Not assigned</td>\n",
       "      <td>Not assigned</td>\n",
       "    </tr>\n",
       "    <tr>\n",
       "      <th>freq</th>\n",
       "      <td>8</td>\n",
       "      <td>77</td>\n",
       "      <td>78</td>\n",
       "    </tr>\n",
       "  </tbody>\n",
       "</table>\n",
       "</div>"
      ],
      "text/plain": [
       "       PostalCode       Borough  Neighborhood\n",
       "count         288           288           288\n",
       "unique        180            12           209\n",
       "top           M8Y  Not assigned  Not assigned\n",
       "freq            8            77            78"
      ]
     },
     "execution_count": 7,
     "metadata": {},
     "output_type": "execute_result"
    }
   ],
   "source": [
    "df.describe()"
   ]
  },
  {
   "cell_type": "markdown",
   "metadata": {},
   "source": [
    "- **Dataframe after using a boolean condition to remove the rows where Borough was Not assigned**"
   ]
  },
  {
   "cell_type": "code",
   "execution_count": 8,
   "metadata": {},
   "outputs": [
    {
     "data": {
      "text/html": [
       "<div>\n",
       "<style scoped>\n",
       "    .dataframe tbody tr th:only-of-type {\n",
       "        vertical-align: middle;\n",
       "    }\n",
       "\n",
       "    .dataframe tbody tr th {\n",
       "        vertical-align: top;\n",
       "    }\n",
       "\n",
       "    .dataframe thead th {\n",
       "        text-align: right;\n",
       "    }\n",
       "</style>\n",
       "<table border=\"1\" class=\"dataframe\">\n",
       "  <thead>\n",
       "    <tr style=\"text-align: right;\">\n",
       "      <th></th>\n",
       "      <th>PostalCode</th>\n",
       "      <th>Borough</th>\n",
       "      <th>Neighborhood</th>\n",
       "    </tr>\n",
       "  </thead>\n",
       "  <tbody>\n",
       "    <tr>\n",
       "      <th>count</th>\n",
       "      <td>211</td>\n",
       "      <td>211</td>\n",
       "      <td>211</td>\n",
       "    </tr>\n",
       "    <tr>\n",
       "      <th>unique</th>\n",
       "      <td>103</td>\n",
       "      <td>11</td>\n",
       "      <td>209</td>\n",
       "    </tr>\n",
       "    <tr>\n",
       "      <th>top</th>\n",
       "      <td>M8Y</td>\n",
       "      <td>Etobicoke</td>\n",
       "      <td>Runnymede</td>\n",
       "    </tr>\n",
       "    <tr>\n",
       "      <th>freq</th>\n",
       "      <td>8</td>\n",
       "      <td>45</td>\n",
       "      <td>2</td>\n",
       "    </tr>\n",
       "  </tbody>\n",
       "</table>\n",
       "</div>"
      ],
      "text/plain": [
       "       PostalCode    Borough Neighborhood\n",
       "count         211        211          211\n",
       "unique        103         11          209\n",
       "top           M8Y  Etobicoke    Runnymede\n",
       "freq            8         45            2"
      ]
     },
     "execution_count": 8,
     "metadata": {},
     "output_type": "execute_result"
    }
   ],
   "source": [
    "df_ba = df[df['Borough'] != 'Not assigned']\n",
    "df_ba.describe()"
   ]
  },
  {
   "cell_type": "markdown",
   "metadata": {},
   "source": [
    "### More than one neighborhood can exist in one postal code area. For example, in the table on the Wikipedia page, you will notice that M5A is listed twice and has two neighborhoods: Harbourfront and Regent Park. These two rows will be combined into one row with the neighborhoods separated with a comma as shown in row 11 in the above table."
   ]
  },
  {
   "cell_type": "markdown",
   "metadata": {},
   "source": [
    "- *I used the groupby function to group the data by 'PostalCode', 'Borough' and applied a string join function, concatenating with a ',' the values located in the 'Neighbourhood' column, to avoid the values being overwritten, also I converted to a Dataframe using Series.to_frame method, and reset the index to bring back the new dataframe with the same column structure.*"
   ]
  },
  {
   "cell_type": "code",
   "execution_count": 9,
   "metadata": {},
   "outputs": [],
   "source": [
    "df_ba_clean = df_ba.groupby(['PostalCode', 'Borough'])['Neighborhood'].apply(','.join).to_frame().reset_index()"
   ]
  },
  {
   "cell_type": "code",
   "execution_count": 10,
   "metadata": {},
   "outputs": [
    {
     "data": {
      "text/html": [
       "<div>\n",
       "<style scoped>\n",
       "    .dataframe tbody tr th:only-of-type {\n",
       "        vertical-align: middle;\n",
       "    }\n",
       "\n",
       "    .dataframe tbody tr th {\n",
       "        vertical-align: top;\n",
       "    }\n",
       "\n",
       "    .dataframe thead th {\n",
       "        text-align: right;\n",
       "    }\n",
       "</style>\n",
       "<table border=\"1\" class=\"dataframe\">\n",
       "  <thead>\n",
       "    <tr style=\"text-align: right;\">\n",
       "      <th></th>\n",
       "      <th>PostalCode</th>\n",
       "      <th>Borough</th>\n",
       "      <th>Neighborhood</th>\n",
       "    </tr>\n",
       "  </thead>\n",
       "  <tbody>\n",
       "    <tr>\n",
       "      <th>0</th>\n",
       "      <td>M1B</td>\n",
       "      <td>Scarborough</td>\n",
       "      <td>Rouge,Malvern</td>\n",
       "    </tr>\n",
       "    <tr>\n",
       "      <th>1</th>\n",
       "      <td>M1C</td>\n",
       "      <td>Scarborough</td>\n",
       "      <td>Highland Creek,Rouge Hill,Port Union</td>\n",
       "    </tr>\n",
       "    <tr>\n",
       "      <th>2</th>\n",
       "      <td>M1E</td>\n",
       "      <td>Scarborough</td>\n",
       "      <td>Guildwood,Morningside,West Hill</td>\n",
       "    </tr>\n",
       "    <tr>\n",
       "      <th>3</th>\n",
       "      <td>M1G</td>\n",
       "      <td>Scarborough</td>\n",
       "      <td>Woburn</td>\n",
       "    </tr>\n",
       "    <tr>\n",
       "      <th>4</th>\n",
       "      <td>M1H</td>\n",
       "      <td>Scarborough</td>\n",
       "      <td>Cedarbrae</td>\n",
       "    </tr>\n",
       "  </tbody>\n",
       "</table>\n",
       "</div>"
      ],
      "text/plain": [
       "  PostalCode      Borough                          Neighborhood\n",
       "0        M1B  Scarborough                         Rouge,Malvern\n",
       "1        M1C  Scarborough  Highland Creek,Rouge Hill,Port Union\n",
       "2        M1E  Scarborough       Guildwood,Morningside,West Hill\n",
       "3        M1G  Scarborough                                Woburn\n",
       "4        M1H  Scarborough                             Cedarbrae"
      ]
     },
     "execution_count": 10,
     "metadata": {},
     "output_type": "execute_result"
    }
   ],
   "source": [
    "df_ba_clean.head()"
   ]
  },
  {
   "cell_type": "markdown",
   "metadata": {},
   "source": [
    "### If a cell has a borough but a Not assigned neighborhood, then the neighborhood will be the same as the borough. So for the 9th cell in the table on the Wikipedia page, the value of the Borough and the Neighborhood columns will be Queen's Park."
   ]
  },
  {
   "cell_type": "markdown",
   "metadata": {},
   "source": [
    "- *Collected the list of index where 'Neighbourhood' value was 'Not assigned', and then use the Index locations to replace the values of the 'Neighbourhood' column by the values of the 'Borough' by using DataFrame Slicing (This time just one value was returned by the condition).*"
   ]
  },
  {
   "cell_type": "code",
   "execution_count": 11,
   "metadata": {},
   "outputs": [],
   "source": [
    "index_loc = df_ba_clean[df_ba_clean['Neighborhood'] == 'Not assigned']['Neighborhood'].index"
   ]
  },
  {
   "cell_type": "code",
   "execution_count": 12,
   "metadata": {},
   "outputs": [],
   "source": [
    "df_ba_clean.loc[index_loc, 2:] = df_ba_clean.loc[index_loc]['Borough'].values[0]"
   ]
  },
  {
   "cell_type": "code",
   "execution_count": 13,
   "metadata": {},
   "outputs": [
    {
     "data": {
      "text/html": [
       "<div>\n",
       "<style scoped>\n",
       "    .dataframe tbody tr th:only-of-type {\n",
       "        vertical-align: middle;\n",
       "    }\n",
       "\n",
       "    .dataframe tbody tr th {\n",
       "        vertical-align: top;\n",
       "    }\n",
       "\n",
       "    .dataframe thead th {\n",
       "        text-align: right;\n",
       "    }\n",
       "</style>\n",
       "<table border=\"1\" class=\"dataframe\">\n",
       "  <thead>\n",
       "    <tr style=\"text-align: right;\">\n",
       "      <th></th>\n",
       "      <th>PostalCode</th>\n",
       "      <th>Borough</th>\n",
       "      <th>Neighborhood</th>\n",
       "    </tr>\n",
       "  </thead>\n",
       "  <tbody>\n",
       "    <tr>\n",
       "      <th>85</th>\n",
       "      <td>M7A</td>\n",
       "      <td>Queen's Park</td>\n",
       "      <td>Queen's Park</td>\n",
       "    </tr>\n",
       "  </tbody>\n",
       "</table>\n",
       "</div>"
      ],
      "text/plain": [
       "   PostalCode       Borough  Neighborhood\n",
       "85        M7A  Queen's Park  Queen's Park"
      ]
     },
     "execution_count": 13,
     "metadata": {},
     "output_type": "execute_result"
    }
   ],
   "source": [
    "df_ba_clean.loc[index_loc]"
   ]
  },
  {
   "cell_type": "markdown",
   "metadata": {},
   "source": [
    "### In the last cell of your notebook, use the .shape method to print the number of rows of your dataframe."
   ]
  },
  {
   "cell_type": "code",
   "execution_count": 14,
   "metadata": {},
   "outputs": [
    {
     "data": {
      "text/plain": [
       "(103, 3)"
      ]
     },
     "execution_count": 14,
     "metadata": {},
     "output_type": "execute_result"
    }
   ],
   "source": [
    "df_ba_clean.shape"
   ]
  },
  {
   "cell_type": "markdown",
   "metadata": {},
   "source": [
    "<hr></hr>"
   ]
  },
  {
   "cell_type": "markdown",
   "metadata": {},
   "source": [
    "### **Section 2**"
   ]
  },
  {
   "cell_type": "markdown",
   "metadata": {},
   "source": [
    "- *I Read Geospatial data from csv file, then rename the Postal Code column to PostalCode, to match the Column name of the Neighbourhood DataFrame, then I grouped by the data by PostalCode to get the unique values and get a dimension match between the two dataframes, and then I merge the two data frames doing a join on the PostalCode column.*"
   ]
  },
  {
   "cell_type": "code",
   "execution_count": 15,
   "metadata": {},
   "outputs": [],
   "source": [
    "geo_data = pd.read_csv('Geospatial_Coordinates.csv')\n",
    "geo_data.rename(columns={'Postal Code':'PostalCode'}, inplace=True)"
   ]
  },
  {
   "cell_type": "code",
   "execution_count": 16,
   "metadata": {},
   "outputs": [],
   "source": [
    "geo_data = geo_data.groupby('PostalCode').head()"
   ]
  },
  {
   "cell_type": "code",
   "execution_count": 17,
   "metadata": {},
   "outputs": [
    {
     "data": {
      "text/html": [
       "<div>\n",
       "<style scoped>\n",
       "    .dataframe tbody tr th:only-of-type {\n",
       "        vertical-align: middle;\n",
       "    }\n",
       "\n",
       "    .dataframe tbody tr th {\n",
       "        vertical-align: top;\n",
       "    }\n",
       "\n",
       "    .dataframe thead th {\n",
       "        text-align: right;\n",
       "    }\n",
       "</style>\n",
       "<table border=\"1\" class=\"dataframe\">\n",
       "  <thead>\n",
       "    <tr style=\"text-align: right;\">\n",
       "      <th></th>\n",
       "      <th>PostalCode</th>\n",
       "      <th>Latitude</th>\n",
       "      <th>Longitude</th>\n",
       "    </tr>\n",
       "  </thead>\n",
       "  <tbody>\n",
       "    <tr>\n",
       "      <th>0</th>\n",
       "      <td>M1B</td>\n",
       "      <td>43.806686</td>\n",
       "      <td>-79.194353</td>\n",
       "    </tr>\n",
       "    <tr>\n",
       "      <th>1</th>\n",
       "      <td>M1C</td>\n",
       "      <td>43.784535</td>\n",
       "      <td>-79.160497</td>\n",
       "    </tr>\n",
       "    <tr>\n",
       "      <th>2</th>\n",
       "      <td>M1E</td>\n",
       "      <td>43.763573</td>\n",
       "      <td>-79.188711</td>\n",
       "    </tr>\n",
       "    <tr>\n",
       "      <th>3</th>\n",
       "      <td>M1G</td>\n",
       "      <td>43.770992</td>\n",
       "      <td>-79.216917</td>\n",
       "    </tr>\n",
       "    <tr>\n",
       "      <th>4</th>\n",
       "      <td>M1H</td>\n",
       "      <td>43.773136</td>\n",
       "      <td>-79.239476</td>\n",
       "    </tr>\n",
       "  </tbody>\n",
       "</table>\n",
       "</div>"
      ],
      "text/plain": [
       "  PostalCode   Latitude  Longitude\n",
       "0        M1B  43.806686 -79.194353\n",
       "1        M1C  43.784535 -79.160497\n",
       "2        M1E  43.763573 -79.188711\n",
       "3        M1G  43.770992 -79.216917\n",
       "4        M1H  43.773136 -79.239476"
      ]
     },
     "execution_count": 17,
     "metadata": {},
     "output_type": "execute_result"
    }
   ],
   "source": [
    "geo_data.head()"
   ]
  },
  {
   "cell_type": "code",
   "execution_count": 18,
   "metadata": {},
   "outputs": [],
   "source": [
    "df_final = pd.merge(df_ba_clean, geo_data, on='PostalCode')"
   ]
  },
  {
   "cell_type": "code",
   "execution_count": 19,
   "metadata": {},
   "outputs": [
    {
     "data": {
      "text/html": [
       "<div>\n",
       "<style scoped>\n",
       "    .dataframe tbody tr th:only-of-type {\n",
       "        vertical-align: middle;\n",
       "    }\n",
       "\n",
       "    .dataframe tbody tr th {\n",
       "        vertical-align: top;\n",
       "    }\n",
       "\n",
       "    .dataframe thead th {\n",
       "        text-align: right;\n",
       "    }\n",
       "</style>\n",
       "<table border=\"1\" class=\"dataframe\">\n",
       "  <thead>\n",
       "    <tr style=\"text-align: right;\">\n",
       "      <th></th>\n",
       "      <th>PostalCode</th>\n",
       "      <th>Borough</th>\n",
       "      <th>Neighborhood</th>\n",
       "      <th>Latitude</th>\n",
       "      <th>Longitude</th>\n",
       "    </tr>\n",
       "  </thead>\n",
       "  <tbody>\n",
       "    <tr>\n",
       "      <th>0</th>\n",
       "      <td>M1B</td>\n",
       "      <td>Scarborough</td>\n",
       "      <td>Rouge,Malvern</td>\n",
       "      <td>43.806686</td>\n",
       "      <td>-79.194353</td>\n",
       "    </tr>\n",
       "    <tr>\n",
       "      <th>1</th>\n",
       "      <td>M1C</td>\n",
       "      <td>Scarborough</td>\n",
       "      <td>Highland Creek,Rouge Hill,Port Union</td>\n",
       "      <td>43.784535</td>\n",
       "      <td>-79.160497</td>\n",
       "    </tr>\n",
       "    <tr>\n",
       "      <th>2</th>\n",
       "      <td>M1E</td>\n",
       "      <td>Scarborough</td>\n",
       "      <td>Guildwood,Morningside,West Hill</td>\n",
       "      <td>43.763573</td>\n",
       "      <td>-79.188711</td>\n",
       "    </tr>\n",
       "    <tr>\n",
       "      <th>3</th>\n",
       "      <td>M1G</td>\n",
       "      <td>Scarborough</td>\n",
       "      <td>Woburn</td>\n",
       "      <td>43.770992</td>\n",
       "      <td>-79.216917</td>\n",
       "    </tr>\n",
       "    <tr>\n",
       "      <th>4</th>\n",
       "      <td>M1H</td>\n",
       "      <td>Scarborough</td>\n",
       "      <td>Cedarbrae</td>\n",
       "      <td>43.773136</td>\n",
       "      <td>-79.239476</td>\n",
       "    </tr>\n",
       "  </tbody>\n",
       "</table>\n",
       "</div>"
      ],
      "text/plain": [
       "  PostalCode      Borough                          Neighborhood   Latitude  \\\n",
       "0        M1B  Scarborough                         Rouge,Malvern  43.806686   \n",
       "1        M1C  Scarborough  Highland Creek,Rouge Hill,Port Union  43.784535   \n",
       "2        M1E  Scarborough       Guildwood,Morningside,West Hill  43.763573   \n",
       "3        M1G  Scarborough                                Woburn  43.770992   \n",
       "4        M1H  Scarborough                             Cedarbrae  43.773136   \n",
       "\n",
       "   Longitude  \n",
       "0 -79.194353  \n",
       "1 -79.160497  \n",
       "2 -79.188711  \n",
       "3 -79.216917  \n",
       "4 -79.239476  "
      ]
     },
     "execution_count": 19,
     "metadata": {},
     "output_type": "execute_result"
    }
   ],
   "source": [
    "df_final.head()"
   ]
  },
  {
   "cell_type": "markdown",
   "metadata": {},
   "source": [
    "<hr></hr>"
   ]
  },
  {
   "cell_type": "markdown",
   "metadata": {},
   "source": [
    "### **Section3**"
   ]
  },
  {
   "cell_type": "markdown",
   "metadata": {},
   "source": [
    "- *I use KMeans to run a Cluster between the Longitude, the number of cluster used was 6, after that I created a scatter plot of the results of the clustering, and I noticed that our clusters are subdivided in a pattern section which seems to match what a group of neighborhoods would look like, each cluster is next to each other and then there is another cluster following, same structure we could see in the cities.*"
   ]
  },
  {
   "cell_type": "code",
   "execution_count": 21,
   "metadata": {},
   "outputs": [],
   "source": [
    "from sklearn import metrics\n",
    "from sklearn.cluster import KMeans\n",
    "from sklearn.preprocessing import StandardScaler\n",
    "import matplotlib.pyplot as plt"
   ]
  },
  {
   "cell_type": "code",
   "execution_count": 23,
   "metadata": {},
   "outputs": [],
   "source": [
    "X = df_final[['Latitude', 'Longitude']]\n",
    "X = StandardScaler().fit(X).transform(X.astype(float))"
   ]
  },
  {
   "cell_type": "code",
   "execution_count": 24,
   "metadata": {},
   "outputs": [],
   "source": [
    "kmeans_model = KMeans(n_clusters=6, random_state=20, max_iter=25).fit(X)\n",
    "labels = kmeans_model.labels_\n",
    "centers = kmeans_model.cluster_centers_"
   ]
  },
  {
   "cell_type": "code",
   "execution_count": 25,
   "metadata": {},
   "outputs": [
    {
     "data": {
      "text/plain": [
       "0.3880708857660392"
      ]
     },
     "execution_count": 25,
     "metadata": {},
     "output_type": "execute_result"
    }
   ],
   "source": [
    "metrics.silhouette_score(X, kmeans_model.labels_, metric='euclidean')"
   ]
  },
  {
   "cell_type": "code",
   "execution_count": 26,
   "metadata": {},
   "outputs": [
    {
     "data": {
      "text/plain": [
       "<matplotlib.collections.PathCollection at 0x7f5489d69e48>"
      ]
     },
     "execution_count": 26,
     "metadata": {},
     "output_type": "execute_result"
    },
    {
     "data": {
      "image/png": "[encoded data removed]",
      "text/plain": [
       "<Figure size 720x432 with 1 Axes>"
      ]
     },
     "metadata": {
      "needs_background": "light"
     },
     "output_type": "display_data"
    }
   ],
   "source": [
    "fig = plt.figure(figsize=(10, 6))\n",
    "ax = fig.add_subplot(1, 1, 1)\n",
    "ax.scatter(df_final['Latitude'], df_final['Longitude'], s=80, c=labels, cmap='viridis')"
   ]
  },
  {
   "cell_type": "code",
   "execution_count": 27,
   "metadata": {},
   "outputs": [],
   "source": [
    "df_final['Cluster'] = labels"
   ]
  },
  {
   "cell_type": "code",
   "execution_count": 28,
   "metadata": {},
   "outputs": [
    {
     "data": {
      "text/html": [
       "<div>\n",
       "<style scoped>\n",
       "    .dataframe tbody tr th:only-of-type {\n",
       "        vertical-align: middle;\n",
       "    }\n",
       "\n",
       "    .dataframe tbody tr th {\n",
       "        vertical-align: top;\n",
       "    }\n",
       "\n",
       "    .dataframe thead th {\n",
       "        text-align: right;\n",
       "    }\n",
       "</style>\n",
       "<table border=\"1\" class=\"dataframe\">\n",
       "  <thead>\n",
       "    <tr style=\"text-align: right;\">\n",
       "      <th></th>\n",
       "      <th>PostalCode</th>\n",
       "      <th>Borough</th>\n",
       "      <th>Neighborhood</th>\n",
       "      <th>Latitude</th>\n",
       "      <th>Longitude</th>\n",
       "      <th>Cluster</th>\n",
       "    </tr>\n",
       "  </thead>\n",
       "  <tbody>\n",
       "    <tr>\n",
       "      <th>0</th>\n",
       "      <td>M1B</td>\n",
       "      <td>Scarborough</td>\n",
       "      <td>Rouge,Malvern</td>\n",
       "      <td>43.806686</td>\n",
       "      <td>-79.194353</td>\n",
       "      <td>0</td>\n",
       "    </tr>\n",
       "    <tr>\n",
       "      <th>1</th>\n",
       "      <td>M1C</td>\n",
       "      <td>Scarborough</td>\n",
       "      <td>Highland Creek,Rouge Hill,Port Union</td>\n",
       "      <td>43.784535</td>\n",
       "      <td>-79.160497</td>\n",
       "      <td>0</td>\n",
       "    </tr>\n",
       "    <tr>\n",
       "      <th>2</th>\n",
       "      <td>M1E</td>\n",
       "      <td>Scarborough</td>\n",
       "      <td>Guildwood,Morningside,West Hill</td>\n",
       "      <td>43.763573</td>\n",
       "      <td>-79.188711</td>\n",
       "      <td>0</td>\n",
       "    </tr>\n",
       "    <tr>\n",
       "      <th>3</th>\n",
       "      <td>M1G</td>\n",
       "      <td>Scarborough</td>\n",
       "      <td>Woburn</td>\n",
       "      <td>43.770992</td>\n",
       "      <td>-79.216917</td>\n",
       "      <td>0</td>\n",
       "    </tr>\n",
       "    <tr>\n",
       "      <th>4</th>\n",
       "      <td>M1H</td>\n",
       "      <td>Scarborough</td>\n",
       "      <td>Cedarbrae</td>\n",
       "      <td>43.773136</td>\n",
       "      <td>-79.239476</td>\n",
       "      <td>0</td>\n",
       "    </tr>\n",
       "    <tr>\n",
       "      <th>5</th>\n",
       "      <td>M1J</td>\n",
       "      <td>Scarborough</td>\n",
       "      <td>Scarborough Village</td>\n",
       "      <td>43.744734</td>\n",
       "      <td>-79.239476</td>\n",
       "      <td>0</td>\n",
       "    </tr>\n",
       "    <tr>\n",
       "      <th>6</th>\n",
       "      <td>M1K</td>\n",
       "      <td>Scarborough</td>\n",
       "      <td>East Birchmount Park,Ionview,Kennedy Park</td>\n",
       "      <td>43.727929</td>\n",
       "      <td>-79.262029</td>\n",
       "      <td>4</td>\n",
       "    </tr>\n",
       "    <tr>\n",
       "      <th>7</th>\n",
       "      <td>M1L</td>\n",
       "      <td>Scarborough</td>\n",
       "      <td>Clairlea,Golden Mile,Oakridge</td>\n",
       "      <td>43.711112</td>\n",
       "      <td>-79.284577</td>\n",
       "      <td>4</td>\n",
       "    </tr>\n",
       "    <tr>\n",
       "      <th>8</th>\n",
       "      <td>M1M</td>\n",
       "      <td>Scarborough</td>\n",
       "      <td>Cliffcrest,Cliffside,Scarborough Village West</td>\n",
       "      <td>43.716316</td>\n",
       "      <td>-79.239476</td>\n",
       "      <td>4</td>\n",
       "    </tr>\n",
       "    <tr>\n",
       "      <th>9</th>\n",
       "      <td>M1N</td>\n",
       "      <td>Scarborough</td>\n",
       "      <td>Birch Cliff,Cliffside West</td>\n",
       "      <td>43.692657</td>\n",
       "      <td>-79.264848</td>\n",
       "      <td>4</td>\n",
       "    </tr>\n",
       "    <tr>\n",
       "      <th>10</th>\n",
       "      <td>M1P</td>\n",
       "      <td>Scarborough</td>\n",
       "      <td>Dorset Park,Scarborough Town Centre,Wexford He...</td>\n",
       "      <td>43.757410</td>\n",
       "      <td>-79.273304</td>\n",
       "      <td>0</td>\n",
       "    </tr>\n",
       "    <tr>\n",
       "      <th>11</th>\n",
       "      <td>M1R</td>\n",
       "      <td>Scarborough</td>\n",
       "      <td>Maryvale,Wexford</td>\n",
       "      <td>43.750072</td>\n",
       "      <td>-79.295849</td>\n",
       "      <td>4</td>\n",
       "    </tr>\n",
       "    <tr>\n",
       "      <th>12</th>\n",
       "      <td>M1S</td>\n",
       "      <td>Scarborough</td>\n",
       "      <td>Agincourt</td>\n",
       "      <td>43.794200</td>\n",
       "      <td>-79.262029</td>\n",
       "      <td>0</td>\n",
       "    </tr>\n",
       "    <tr>\n",
       "      <th>13</th>\n",
       "      <td>M1T</td>\n",
       "      <td>Scarborough</td>\n",
       "      <td>Clarks Corners,Sullivan,Tam O'Shanter</td>\n",
       "      <td>43.781638</td>\n",
       "      <td>-79.304302</td>\n",
       "      <td>0</td>\n",
       "    </tr>\n",
       "    <tr>\n",
       "      <th>14</th>\n",
       "      <td>M1V</td>\n",
       "      <td>Scarborough</td>\n",
       "      <td>Agincourt North,L'Amoreaux East,Milliken,Steel...</td>\n",
       "      <td>43.815252</td>\n",
       "      <td>-79.284577</td>\n",
       "      <td>0</td>\n",
       "    </tr>\n",
       "    <tr>\n",
       "      <th>15</th>\n",
       "      <td>M1W</td>\n",
       "      <td>Scarborough</td>\n",
       "      <td>L'Amoreaux West</td>\n",
       "      <td>43.799525</td>\n",
       "      <td>-79.318389</td>\n",
       "      <td>0</td>\n",
       "    </tr>\n",
       "    <tr>\n",
       "      <th>16</th>\n",
       "      <td>M1X</td>\n",
       "      <td>Scarborough</td>\n",
       "      <td>Upper Rouge</td>\n",
       "      <td>43.836125</td>\n",
       "      <td>-79.205636</td>\n",
       "      <td>0</td>\n",
       "    </tr>\n",
       "    <tr>\n",
       "      <th>17</th>\n",
       "      <td>M2H</td>\n",
       "      <td>North York</td>\n",
       "      <td>Hillcrest Village</td>\n",
       "      <td>43.803762</td>\n",
       "      <td>-79.363452</td>\n",
       "      <td>5</td>\n",
       "    </tr>\n",
       "    <tr>\n",
       "      <th>18</th>\n",
       "      <td>M2J</td>\n",
       "      <td>North York</td>\n",
       "      <td>Fairview,Henry Farm,Oriole</td>\n",
       "      <td>43.778517</td>\n",
       "      <td>-79.346556</td>\n",
       "      <td>5</td>\n",
       "    </tr>\n",
       "    <tr>\n",
       "      <th>19</th>\n",
       "      <td>M2K</td>\n",
       "      <td>North York</td>\n",
       "      <td>Bayview Village</td>\n",
       "      <td>43.786947</td>\n",
       "      <td>-79.385975</td>\n",
       "      <td>5</td>\n",
       "    </tr>\n",
       "  </tbody>\n",
       "</table>\n",
       "</div>"
      ],
      "text/plain": [
       "   PostalCode      Borough                                       Neighborhood  \\\n",
       "0         M1B  Scarborough                                      Rouge,Malvern   \n",
       "1         M1C  Scarborough               Highland Creek,Rouge Hill,Port Union   \n",
       "2         M1E  Scarborough                    Guildwood,Morningside,West Hill   \n",
       "3         M1G  Scarborough                                             Woburn   \n",
       "4         M1H  Scarborough                                          Cedarbrae   \n",
       "5         M1J  Scarborough                                Scarborough Village   \n",
       "6         M1K  Scarborough          East Birchmount Park,Ionview,Kennedy Park   \n",
       "7         M1L  Scarborough                      Clairlea,Golden Mile,Oakridge   \n",
       "8         M1M  Scarborough      Cliffcrest,Cliffside,Scarborough Village West   \n",
       "9         M1N  Scarborough                         Birch Cliff,Cliffside West   \n",
       "10        M1P  Scarborough  Dorset Park,Scarborough Town Centre,Wexford He...   \n",
       "11        M1R  Scarborough                                   Maryvale,Wexford   \n",
       "12        M1S  Scarborough                                          Agincourt   \n",
       "13        M1T  Scarborough              Clarks Corners,Sullivan,Tam O'Shanter   \n",
       "14        M1V  Scarborough  Agincourt North,L'Amoreaux East,Milliken,Steel...   \n",
       "15        M1W  Scarborough                                    L'Amoreaux West   \n",
       "16        M1X  Scarborough                                        Upper Rouge   \n",
       "17        M2H   North York                                  Hillcrest Village   \n",
       "18        M2J   North York                         Fairview,Henry Farm,Oriole   \n",
       "19        M2K   North York                                    Bayview Village   \n",
       "\n",
       "     Latitude  Longitude  Cluster  \n",
       "0   43.806686 -79.194353        0  \n",
       "1   43.784535 -79.160497        0  \n",
       "2   43.763573 -79.188711        0  \n",
       "3   43.770992 -79.216917        0  \n",
       "4   43.773136 -79.239476        0  \n",
       "5   43.744734 -79.239476        0  \n",
       "6   43.727929 -79.262029        4  \n",
       "7   43.711112 -79.284577        4  \n",
       "8   43.716316 -79.239476        4  \n",
       "9   43.692657 -79.264848        4  \n",
       "10  43.757410 -79.273304        0  \n",
       "11  43.750072 -79.295849        4  \n",
       "12  43.794200 -79.262029        0  \n",
       "13  43.781638 -79.304302        0  \n",
       "14  43.815252 -79.284577        0  \n",
       "15  43.799525 -79.318389        0  \n",
       "16  43.836125 -79.205636        0  \n",
       "17  43.803762 -79.363452        5  \n",
       "18  43.778517 -79.346556        5  \n",
       "19  43.786947 -79.385975        5  "
      ]
     },
     "execution_count": 28,
     "metadata": {},
     "output_type": "execute_result"
    }
   ],
   "source": [
    "df_final.head(20)"
   ]
  },
  {
   "cell_type": "markdown",
   "metadata": {},
   "source": [
    "### **Ploting the Neighborhoods clusters in folium**"
   ]
  },
  {
   "cell_type": "markdown",
   "metadata": {},
   "source": [
    "- *To plot the Clusters in Folium I used the pluging provided by folum 'MarkerCluster'*"
   ]
  },
  {
   "cell_type": "code",
   "execution_count": 29,
   "metadata": {},
   "outputs": [],
   "source": [
    "import folium\n",
    "from folium.plugins import MarkerCluster"
   ]
  },
  {
   "cell_type": "code",
   "execution_count": 30,
   "metadata": {},
   "outputs": [
    {
     "data": {
      "text/html": [
       "<div style=\"width:100%;\"><div style=\"position:relative;width:100%;height:0;padding-bottom:60%;\"><iframe src=\"data:text/html;charset=utf-8;base64,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\" style=\"position:absolute;width:100%;height:100%;left:0;top:0;border:none !important;\" allowfullscreen webkitallowfullscreen mozallowfullscreen></iframe></div></div>"
      ],
      "text/plain": [
       "<folium.folium.Map at 0x7f54899512e8>"
      ]
     },
     "execution_count": 30,
     "metadata": {},
     "output_type": "execute_result"
    }
   ],
   "source": [
    "toronto_map = folium.Map(location=(43.653, -79.383), zoom_start=10)\n",
    "\n",
    "mc = MarkerCluster()\n",
    "\n",
    "#creating a Marker for each point in df_final. Each point will get a popup with their Borough\n",
    "for row in df_final.itertuples():\n",
    "    mc.add_child(folium.Marker(location=[row.Latitude,  row.Longitude],\n",
    "                 popup=row.Borough))\n",
    "\n",
    "toronto_map.add_child(mc)\n",
    "\n",
    "\n",
    "toronto_map"
   ]
  },
  {
   "cell_type": "code",
   "execution_count": null,
   "metadata": {},
   "outputs": [],
   "source": []
  }
 ],
 "metadata": {
  "kernelspec": {
   "display_name": "Python 3",
   "language": "python",
   "name": "python3"
  },
  "language_info": {
   "codemirror_mode": {
    "name": "ipython",
    "version": 3
   },
   "file_extension": ".py",
   "mimetype": "text/x-python",
   "name": "python",
   "nbconvert_exporter": "python",
   "pygments_lexer": "ipython3",
   "version": "3.7.3"
  }
 },
 "nbformat": 4,
 "nbformat_minor": 4
}
